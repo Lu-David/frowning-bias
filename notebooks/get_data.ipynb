{
 "cells": [
  {
   "cell_type": "code",
   "execution_count": 7,
   "outputs": [],
   "source": [
    "from pathlib import Path\n",
    "import urllib.request\n",
    "import zipfile\n",
    "import shutil\n",
    "import os"
   ],
   "metadata": {
    "collapsed": false,
    "pycharm": {
     "name": "#%%\n"
    }
   }
  },
  {
   "cell_type": "code",
   "execution_count": 8,
   "outputs": [],
   "source": [
    "aligned_test_url = \"https://www.ugrad.cs.jhu.edu/~dlu17/aligned_test.zip\"\n",
    "aligned_train_url = \"https://www.ugrad.cs.jhu.edu/~dlu17/aligned_train.zip\"\n",
    "list_partition_label_url = \"https://www.ugrad.cs.jhu.edu/~dlu17/list_patition_label.txt\"\n",
    "manual_url = \"https://drive.google.com/drive/folders/0B4E10azXECctYU5zYXRnbDdtMWM?resourcekey=0-hF-Mu5W-DSA2NmmEPXSTSg\""
   ],
   "metadata": {
    "collapsed": false,
    "pycharm": {
     "name": "#%%\n"
    }
   }
  },
  {
   "cell_type": "code",
   "execution_count": 9,
   "outputs": [],
   "source": [
    "rafdb = Path('../data/RAF')\n",
    "rafdb.mkdir(exist_ok=True, parents=True)"
   ],
   "metadata": {
    "collapsed": false,
    "pycharm": {
     "name": "#%%\n"
    }
   }
  },
  {
   "cell_type": "code",
   "execution_count": 10,
   "outputs": [],
   "source": [
    "# download and unzip the data using python\n",
    "\n",
    "def download_and_unzip(url, dest):\n",
    "    # if already exists, return\n",
    "    if dest.exists():\n",
    "        return\n",
    "    print(f\"Downloading {url} to {dest}\")\n",
    "    urllib.request.urlretrieve(url, dest)\n",
    "    print(f\"Unzipping {dest}\")\n",
    "    with zipfile.ZipFile(dest, 'r') as zip_ref:\n",
    "        zip_ref.extractall(rafdb)\n",
    "    # rename extracted folder\n",
    "    extracted_folder = dest.with_suffix('')\n",
    "    extracted_folder.rename(\"tmp\")\n",
    "    # move out of parent folder\n",
    "    for f in Path(\"tmp\").iterdir():\n",
    "        shutil.move(f, rafdb)\n",
    "    # remove tmp folder\n",
    "    shutil.rmtree(\"tmp\")\n",
    "\n",
    "\n",
    "download_and_unzip(aligned_test_url, rafdb / 'aligned_test.zip')\n",
    "download_and_unzip(aligned_train_url, rafdb / 'aligned_train.zip')"
   ],
   "metadata": {
    "collapsed": false,
    "pycharm": {
     "name": "#%%\n"
    }
   }
  },
  {
   "cell_type": "code",
   "execution_count": 11,
   "outputs": [
    {
     "data": {
      "text/plain": "(PosixPath('../data/RAF/list_partition_label.txt'),\n <http.client.HTTPMessage at 0x11eb38430>)"
     },
     "execution_count": 11,
     "metadata": {},
     "output_type": "execute_result"
    }
   ],
   "source": [
    "# download the list_patition_label.txt file\n",
    "urllib.request.urlretrieve(list_partition_label_url, rafdb / 'list_partition_label.txt')\n"
   ],
   "metadata": {
    "collapsed": false,
    "pycharm": {
     "name": "#%%\n"
    }
   }
  },
  {
   "cell_type": "code",
   "execution_count": 11,
   "outputs": [],
   "source": [],
   "metadata": {
    "collapsed": false,
    "pycharm": {
     "name": "#%%\n"
    }
   }
  }
 ],
 "metadata": {
  "kernelspec": {
   "display_name": "Python 3",
   "language": "python",
   "name": "python3"
  },
  "language_info": {
   "codemirror_mode": {
    "name": "ipython",
    "version": 2
   },
   "file_extension": ".py",
   "mimetype": "text/x-python",
   "name": "python",
   "nbconvert_exporter": "python",
   "pygments_lexer": "ipython2",
   "version": "2.7.6"
  }
 },
 "nbformat": 4,
 "nbformat_minor": 0
}