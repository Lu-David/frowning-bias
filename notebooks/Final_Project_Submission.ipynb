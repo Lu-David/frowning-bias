{
 "nbformat": 4,
 "nbformat_minor": 0,
 "metadata": {
  "colab": {
   "provenance": [],
   "toc_visible": true
  },
  "kernelspec": {
   "name": "python3",
   "display_name": "Python 3"
  }
 },
 "cells": [
  {
   "cell_type": "markdown",
   "metadata": {
    "id": "39GGICFzwDrj",
    "pycharm": {
     "name": "#%% md\n"
    }
   },
   "source": [
    "# **Instructions**\n",
    "\n",
    "This document is a template, and you are not required to follow it exactly. However, the kinds of questions we ask here are the kinds of questions we want you to focus on. While you might have answered similar questions to these in your project presentations, we want you to go into a lot more detail in this write-up; you can refer to the Lab homeworks for ideas on how to present your data or results. \n",
    "\n",
    "You don't have to answer every question in this template, but you should answer roughly this many questions. Your answers to such questions should be paragraph-length, not just a bullet point. You likely still have questions of your own -- that's okay! We want you to convey what you've learned, how you've learned it, and demonstrate that the content from the course has influenced how you've thought about this project."
   ]
  },
  {
   "cell_type": "markdown",
   "metadata": {
    "id": "-9VDfC-ie19P",
    "pycharm": {
     "name": "#%% md\n"
    }
   },
   "source": [
    "# Frowning upon Bias: Exposing the Impact of Race on Emotion Classification\n",
    "Project mentor: Mark Dredze\n",
    "\n",
    "Kesavan Venkatesh, David Lu, Rishi Chandra, Liam Wang\n",
    "kvenka10, dlu17, rchand18, wwang136\n",
    "\n",
    "https://github.com/Lu-David/frowning-bias"
   ]
  },
  {
   "cell_type": "markdown",
   "metadata": {
    "id": "uqwI3PT-hBJo",
    "pycharm": {
     "name": "#%% md\n"
    }
   },
   "source": [
    "# Outline and Deliverables"
   ]
  },
  {
   "cell_type": "markdown",
   "metadata": {
    "id": "F7Af6y48e7HI",
    "pycharm": {
     "name": "#%% md\n"
    }
   },
   "source": [
    "List the deliverables from your project proposal. For each uncompleted deliverable, please include a sentence or two on why you weren't able to complete it (e.g. \"decided to use an existing implementation instead\" or \"ran out of time\"). For each completed deliverable, indicate which section of this notebook covers what you did.\n",
    "\n",
    "If you spent substantial time on any aspects that weren't deliverables in your proposal, please list those under \"Additional Work\" and indicate where in the notebook you discuss them.\n",
    "\n",
    "### Uncompleted Deliverables\n",
    "1. \"Would like to accomplish #1\" Compare the per-race accuracy results of our facial expression model with facial expression models of other popular facial expression models.\n",
    "2. \"Would like to accomplish #2\" Explore other techniques to quantify and improve model fairness when training on skewed datasets.\n",
    "\n",
    "\n",
    "### Completed Deliverables\n",
    "1. \"Must Accomplish #1\": Determine the approximate race distribution of at least one popular facial expression dataset.\n",
    "2. \"Must Accomplish #2\": Perform hyperparameter search to tune model with high overall accuracy.\n",
    "3. \"Must Accomplish #3\": Train an effective model for facial expression classification using a popular facial expression dataset without stratification by race.\n",
    "4. \"Must Accomplish #4\": Compare overall model accuracy on the dataset with the model accuracy on subsets of the dataset broken down by race.\n",
    "5. \"Expect to accomplish #1\" Re-train our facial expression model using a stratified train/test split (same distribution in train vs test set) by race and compare overall and per-race model accuracy.\n",
    "6. \"Expect to accomplish #2\" Re-train our facial expression model using a stratified train/test split and stratified sampling within groups (same number of each category in each set) by race and compare overall and per-race model accuracy.\n",
    "7. \"Expect to accomplish #3\" Perform analysis on model accuracy on the train/test set when broken down by race and facial expression to identify which facial expressions are most likely to be misclassified when considering the distribution of race.\n",
    "8. \"Would like to accomplish #3\" Introduce additional dependent variables to compare accuracy across, such as gender or age.\n",
    "\n",
    "9. \"Must complete #1\": We discuss our dataset pre-processing [in \"Dataset\" below](#scrollTo=zFq-_D0khnhh&line=10&uniqifier=1).\n",
    "10. \"Must complete #2\": We discuss training our logistic regression baseline [in \"Baselines\" below](#scrollTo=oMyqHUa0jUw7&line=5&uniqifier=1).\n",
    "11. ...\n",
    "\n",
    "\n",
    "### Additional Deliverables\n",
    "1. We introduced data augmentation to see if varying lighting conditions would make the model more agnostic to demographic characteristics. We discuss this in \"Data Augmentation\" section below.\n",
    "2. We trained an \"Attribute Aware\" model that takes demographic information as an input to see if this would make the model more fair. We discuss this in \"Attribute Aware Model\" section below."
   ]
  },
  {
   "cell_type": "markdown",
   "metadata": {
    "id": "Eiq2aSauhSsS",
    "pycharm": {
     "name": "#%% md\n"
    }
   },
   "source": [
    "# Preliminaries"
   ]
  },
  {
   "cell_type": "markdown",
   "metadata": {
    "id": "NtWkhiIPfOfK",
    "pycharm": {
     "name": "#%% md\n"
    }
   },
   "source": [
    "## What problem were you trying to solve or understand?\n",
    "\n",
    "What are the real-world implications of this data and task?\n",
    "\n",
    "How is this problem similar to others we’ve seen in lectures, breakouts, and homeworks?\n",
    "\n",
    "What makes this problem unique?\n",
    "\n",
    "What ethical implications does this problem have?"
   ]
  },
  {
   "cell_type": "markdown",
   "metadata": {
    "id": "zFq-_D0khnhh",
    "pycharm": {
     "name": "#%% md\n"
    }
   },
   "source": [
    "## Dataset(s)\n",
    "\n",
    "Describe the dataset(s) you used.\n",
    "\n",
    "How were they collected?\n",
    "\n",
    "Why did you choose them?\n",
    "\n",
    "How many examples in each?\n"
   ]
  },
  {
   "cell_type": "code",
   "metadata": {
    "id": "2lOicoBYif7g",
    "pycharm": {
     "name": "#%%\n"
    }
   },
   "source": [
    "# Load your data and print 2-3 examples"
   ],
   "execution_count": null,
   "outputs": []
  },
  {
   "cell_type": "markdown",
   "metadata": {
    "id": "XN1fYEfGidiD",
    "pycharm": {
     "name": "#%% md\n"
    }
   },
   "source": [
    "## Pre-processing\n",
    "\n",
    "What features did you use or choose not to use? Why?\n",
    "\n",
    "If you have categorical labels, were your datasets class-balanced?\n",
    "\n",
    "How did you deal with missing data? What about outliers?\n",
    "\n",
    "What approach(es) did you use to pre-process your data? Why?\n",
    "\n",
    "Are your features continuous or categorical? How do you treat these features differently?"
   ]
  },
  {
   "cell_type": "code",
   "metadata": {
    "id": "EEuKEzM5ipag",
    "pycharm": {
     "name": "#%%\n"
    }
   },
   "source": [
    "# For those same examples above, what do they look like after being pre-processed?"
   ],
   "execution_count": null,
   "outputs": []
  },
  {
   "cell_type": "code",
   "metadata": {
    "id": "1cDLEwhAx0gP",
    "pycharm": {
     "name": "#%%\n"
    }
   },
   "source": [
    "# Visualize the distribution of your data before and after pre-processing.\n",
    "#   You may borrow from how we visualized data in the Lab homeworks."
   ],
   "execution_count": null,
   "outputs": []
  },
  {
   "cell_type": "markdown",
   "metadata": {
    "id": "tASjmmtjiwvu",
    "pycharm": {
     "name": "#%% md\n"
    }
   },
   "source": [
    "# Models and Evaluation"
   ]
  },
  {
   "cell_type": "markdown",
   "metadata": {
    "id": "LlrwR9E1hnQ3",
    "pycharm": {
     "name": "#%% md\n"
    }
   },
   "source": [
    "## Experimental Setup\n",
    "\n",
    "How did you evaluate your methods? Why is that a reasonable evaluation metric for the task?\n",
    "\n",
    "What did you use for your loss function to train your models? Did you try multiple loss functions? Why or why not?\n",
    "\n",
    "How did you split your data into train and test sets? Why?\n"
   ]
  },
  {
   "cell_type": "code",
   "metadata": {
    "id": "qUNxC358jPDr",
    "pycharm": {
     "name": "#%%\n"
    }
   },
   "source": [
    "# Code for loss functions, evaluation metrics or link to Git repo"
   ],
   "execution_count": null,
   "outputs": []
  },
  {
   "cell_type": "markdown",
   "metadata": {
    "id": "oMyqHUa0jUw7",
    "pycharm": {
     "name": "#%% md\n"
    }
   },
   "source": [
    "## Baselines \n",
    "\n",
    "What baselines did you compare against? Why are these reasonable?\n",
    "\n",
    "Did you look at related work to contextualize how others methods or baselines have performed on this dataset/task? If so, how did those methods do?"
   ]
  },
  {
   "cell_type": "markdown",
   "metadata": {
    "id": "PqB48IF9kMBf",
    "pycharm": {
     "name": "#%% md\n"
    }
   },
   "source": [
    "## Methods\n",
    "\n",
    "What methods did you choose? Why did you choose them?\n",
    "\n",
    "How did you train these methods, and how did you evaluate them? Why?\n",
    "\n",
    "Which methods were easy/difficult to implement and train? Why?\n",
    "\n",
    "For each method, what hyperparameters did you evaluate? How sensitive was your model's performance to different hyperparameter settings?"
   ]
  },
  {
   "cell_type": "code",
   "metadata": {
    "id": "ma4JoDzar6xU",
    "pycharm": {
     "name": "#%%\n"
    }
   },
   "source": [
    "# Code for training models, or link to your Git repository"
   ],
   "execution_count": null,
   "outputs": []
  },
  {
   "cell_type": "code",
   "metadata": {
    "id": "RO_kP1fmkWWk",
    "pycharm": {
     "name": "#%%\n"
    }
   },
   "source": [
    "# Show plots of how these models performed during training.\n",
    "#  For example, plot train loss and train accuracy (or other evaluation metric) on the y-axis,\n",
    "#  with number of iterations or number of examples on the x-axis."
   ],
   "execution_count": null,
   "outputs": []
  },
  {
   "cell_type": "markdown",
   "metadata": {
    "id": "_Zdp4_H-kx8H",
    "pycharm": {
     "name": "#%% md\n"
    }
   },
   "source": [
    "## Results\n",
    "\n",
    "Show tables comparing your methods to the baselines.\n",
    "\n",
    "What about these results surprised you? Why?\n",
    "\n",
    "Did your models over- or under-fit? How can you tell? What did you do to address these issues?\n",
    "\n",
    "What does the evaluation of your trained models tell you about your data? How do you expect these models might behave differently on different data?  "
   ]
  },
  {
   "cell_type": "code",
   "metadata": {
    "id": "bS2sjfbglG_V",
    "pycharm": {
     "name": "#%%\n"
    }
   },
   "source": [
    "# Show plots or visualizations of your evaluation metric(s) on the train and test sets.\n",
    "#   What do these plots show about over- or under-fitting?\n",
    "#   You may borrow from how we visualized results in the Lab homeworks.\n",
    "#   Are there aspects of your results that are difficult to visualize? Why?"
   ],
   "execution_count": null,
   "outputs": []
  },
  {
   "cell_type": "markdown",
   "metadata": {
    "id": "59EbS1GilSQ_",
    "pycharm": {
     "name": "#%% md\n"
    }
   },
   "source": [
    "# Discussion"
   ]
  },
  {
   "cell_type": "markdown",
   "metadata": {
    "id": "ugJXhZKNlUT4",
    "pycharm": {
     "name": "#%% md\n"
    }
   },
   "source": [
    "## What you've learned\n",
    "\n",
    "*Note: you don't have to answer all of these, and you can answer other questions if you'd like. We just want you to demonstrate what you've learned from the project.*\n",
    "\n",
    "What concepts from lecture/breakout were most relevant to your project? How so?\n",
    "\n",
    "What aspects of your project did you find most surprising?\n",
    "\n",
    "What lessons did you take from this project that you want to remember for the next ML project you work on? Do you think those lessons would transfer to other datasets and/or models? Why or why not?\n",
    "\n",
    "What was the most helpful feedback you received during your presentation? Why?\n",
    "\n",
    "If you had two more weeks to work on this project, what would you do next? Why?"
   ]
  }
 ]
}