{
 "cells": [
  {
   "cell_type": "code",
   "source": [
    "%cd /content"
   ],
   "metadata": {
    "colab": {
     "base_uri": "https://localhost:8080/"
    },
    "id": "_qxCGD9C322U",
    "outputId": "ba156011-0e33-4f86-bd49-1b3310f9da19"
   },
   "execution_count": 1,
   "outputs": [
    {
     "output_type": "stream",
     "name": "stdout",
     "text": [
      "/content\n"
     ]
    }
   ]
  },
  {
   "cell_type": "code",
   "source": [
    "! rm -rf frowning-bias"
   ],
   "metadata": {
    "id": "YPhfw88p3uz-"
   },
   "execution_count": 2,
   "outputs": []
  },
  {
   "cell_type": "code",
   "source": [
    "! git clone https://github.com/Lu-David/frowning-bias -b colab"
   ],
   "metadata": {
    "id": "hM0NheQqwIKc",
    "outputId": "afac0260-b696-4101-b32c-d6b65acfb99c",
    "colab": {
     "base_uri": "https://localhost:8080/"
    }
   },
   "execution_count": 3,
   "outputs": [
    {
     "output_type": "stream",
     "name": "stdout",
     "text": [
      "Cloning into 'frowning-bias'...\n",
      "remote: Enumerating objects: 126, done.\u001B[K\n",
      "remote: Counting objects: 100% (126/126), done.\u001B[K\n",
      "remote: Compressing objects: 100% (94/94), done.\u001B[K\n",
      "remote: Total 126 (delta 53), reused 96 (delta 28), pack-reused 0\u001B[K\n",
      "Receiving objects: 100% (126/126), 3.05 MiB | 2.72 MiB/s, done.\n",
      "Resolving deltas: 100% (53/53), done.\n"
     ]
    }
   ]
  },
  {
   "cell_type": "code",
   "source": [
    "%cd  frowning-bias"
   ],
   "metadata": {
    "id": "DCiAFvmU0glt",
    "outputId": "df388c4d-2492-4f8b-fc3b-871eb77c4ca8",
    "colab": {
     "base_uri": "https://localhost:8080/"
    }
   },
   "execution_count": 4,
   "outputs": [
    {
     "output_type": "stream",
     "name": "stdout",
     "text": [
      "/content/frowning-bias\n"
     ]
    }
   ]
  },
  {
   "cell_type": "code",
   "source": [
    "from download_data import download_raf\n",
    "\n",
    "download_raf()"
   ],
   "metadata": {
    "id": "6txuqyLR0ywX",
    "outputId": "b21d2efb-75c4-4dca-cb20-8bbb2595527a",
    "colab": {
     "base_uri": "https://localhost:8080/"
    }
   },
   "execution_count": 6,
   "outputs": [
    {
     "output_type": "stream",
     "name": "stdout",
     "text": [
      "Downloading https://www.ugrad.cs.jhu.edu/~dlu17/aligned_test.zip to data/RAF/aligned_test.zip\n",
      "Unzipping data/RAF/aligned_test.zip\n",
      "Downloading https://www.ugrad.cs.jhu.edu/~dlu17/aligned_train.zip to data/RAF/aligned_train.zip\n",
      "Unzipping data/RAF/aligned_train.zip\n",
      "Downloading https://www.ugrad.cs.jhu.edu/~wwang136/manual.zip to data/RAF/manual.zip\n",
      "Unzipping data/RAF/manual.zip\n"
     ]
    }
   ]
  },
  {
   "cell_type": "code",
   "source": [
    "! python3 split.py"
   ],
   "metadata": {
    "id": "vmKDAkgp5rZK"
   },
   "execution_count": 7,
   "outputs": []
  },
  {
   "cell_type": "code",
   "execution_count": null,
   "outputs": [],
   "source": [
    "! mkdir -p ./results/baseline/"
   ],
   "metadata": {
    "collapsed": false,
    "pycharm": {
     "name": "#%%\n"
    }
   }
  },
  {
   "cell_type": "code",
   "execution_count": null,
   "outputs": [],
   "source": [
    "# ! python3 train.py --architecture \"ResNet18\" --pretrained \"y\" --frozen \"n\" --batch-size 32 --max-epochs 100 --dropout 0.5 --print-batches \"y\" --results-dir \"./results/scratch\" "
   ],
   "metadata": {
    "collapsed": false,
    "pycharm": {
     "name": "#%%\n"
    }
   }
  },
  {
   "cell_type": "code",
   "execution_count": null,
   "outputs": [],
   "source": [
    "! chmod +x -R scripts"
   ],
   "metadata": {
    "collapsed": false,
    "pycharm": {
     "name": "#%%\n"
    }
   }
  },
  {
   "cell_type": "code",
   "execution_count": null,
   "outputs": [],
   "source": [
    "! scripts/baseline/train_baseline.sh"
   ],
   "metadata": {
    "collapsed": false,
    "pycharm": {
     "name": "#%%\n"
    }
   }
  },
  {
   "cell_type": "code",
   "execution_count": null,
   "outputs": [],
   "source": [
    "! scripts/baseline/eval_baseline.sh"
   ],
   "metadata": {
    "collapsed": false,
    "pycharm": {
     "name": "#%%\n"
    }
   }
  },
  {
   "cell_type": "code",
   "execution_count": null,
   "outputs": [],
   "source": [
    "!python3 predict.py --model-dir \"./results/baseline\" --model-file \"ResNet18_lr0.001_bs32_optAdamW_wd0.001_sch_step_pp3_bp3_trtrain_files.csv_vaval_files.csv_tfnone_do0.0_swTrue_1670092896_model.pt\" --model-name \"baseline\" --architecture \"ResNet18\" --results-dir \"./results/baseline\"\n"
   ],
   "metadata": {
    "collapsed": false,
    "pycharm": {
     "name": "#%%\n"
    }
   }
  },
  {
   "cell_type": "code",
   "execution_count": null,
   "outputs": [],
   "source": [
    "! python3 eval.py --predictions-dir \"./results/baseline\" --predictions-file \"baseline_predicttest_files.csv.npz\""
   ],
   "metadata": {
    "collapsed": false,
    "pycharm": {
     "name": "#%%\n"
    }
   }
  }
 ],
 "metadata": {
  "kernelspec": {
   "display_name": "Python 3",
   "language": "python",
   "name": "python3"
  },
  "language_info": {
   "codemirror_mode": {
    "name": "ipython",
    "version": 2
   },
   "file_extension": ".py",
   "mimetype": "text/x-python",
   "name": "python",
   "nbconvert_exporter": "python",
   "pygments_lexer": "ipython2",
   "version": "2.7.6"
  },
  "colab": {
   "provenance": []
  },
  "gpuClass": "standard",
  "accelerator": "GPU"
 },
 "nbformat": 4,
 "nbformat_minor": 0
}